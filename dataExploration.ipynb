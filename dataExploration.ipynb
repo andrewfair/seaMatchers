{
 "cells": [
  {
   "cell_type": "code",
   "execution_count": 1,
   "metadata": {
    "collapsed": true
   },
   "outputs": [],
   "source": [
    "import recordlinkage as rl\n",
    "import pandas as pd\n",
    "import os"
   ]
  },
  {
   "cell_type": "code",
   "execution_count": 2,
   "metadata": {
    "collapsed": true
   },
   "outputs": [],
   "source": [
    "p = '../data/'\n",
    "fn = 'FInalDataset.csv'\n",
    "filePath = os.path.join(p,fn)"
   ]
  },
  {
   "cell_type": "code",
   "execution_count": 3,
   "metadata": {},
   "outputs": [
    {
     "data": {
      "text/plain": [
       "'../data/FInalDataset.csv'"
      ]
     },
     "execution_count": 3,
     "metadata": {},
     "output_type": "execute_result"
    }
   ],
   "source": [
    "filePath"
   ]
  },
  {
   "cell_type": "code",
   "execution_count": 4,
   "metadata": {
    "collapsed": true
   },
   "outputs": [],
   "source": [
    "df = pd.read_csv(filePath)"
   ]
  },
  {
   "cell_type": "code",
   "execution_count": 5,
   "metadata": {},
   "outputs": [
    {
     "data": {
      "text/html": [
       "<div>\n",
       "<style>\n",
       "    .dataframe thead tr:only-child th {\n",
       "        text-align: right;\n",
       "    }\n",
       "\n",
       "    .dataframe thead th {\n",
       "        text-align: left;\n",
       "    }\n",
       "\n",
       "    .dataframe tbody tr th {\n",
       "        vertical-align: top;\n",
       "    }\n",
       "</style>\n",
       "<table border=\"1\" class=\"dataframe\">\n",
       "  <thead>\n",
       "    <tr style=\"text-align: right;\">\n",
       "      <th></th>\n",
       "      <th>EnterpriseID</th>\n",
       "      <th>LAST</th>\n",
       "      <th>FIRST</th>\n",
       "      <th>MIDDLE</th>\n",
       "      <th>SUFFIX</th>\n",
       "      <th>DOB</th>\n",
       "      <th>GENDER</th>\n",
       "      <th>SSN</th>\n",
       "      <th>ADDRESS1</th>\n",
       "      <th>ADDRESS2</th>\n",
       "      <th>ZIP</th>\n",
       "      <th>MOTHERS_MAIDEN_NAME</th>\n",
       "      <th>MRN</th>\n",
       "      <th>CITY</th>\n",
       "      <th>STATE</th>\n",
       "      <th>PHONE</th>\n",
       "      <th>PHONE2</th>\n",
       "      <th>EMAIL</th>\n",
       "      <th>ALIAS</th>\n",
       "    </tr>\n",
       "  </thead>\n",
       "  <tbody>\n",
       "    <tr>\n",
       "      <th>0</th>\n",
       "      <td>13125316.0</td>\n",
       "      <td>BERRYMAN</td>\n",
       "      <td>MARTHA</td>\n",
       "      <td>NaN</td>\n",
       "      <td>NaN</td>\n",
       "      <td>8/6/1993</td>\n",
       "      <td>FEMALE</td>\n",
       "      <td>857-46-5079</td>\n",
       "      <td>1120 CLAY AVE</td>\n",
       "      <td>4G</td>\n",
       "      <td>10456</td>\n",
       "      <td>NaN</td>\n",
       "      <td>NaN</td>\n",
       "      <td>BRONX</td>\n",
       "      <td>NY</td>\n",
       "      <td>732-461-9820</td>\n",
       "      <td>NaN</td>\n",
       "      <td>NaN</td>\n",
       "      <td>NaN</td>\n",
       "    </tr>\n",
       "    <tr>\n",
       "      <th>1</th>\n",
       "      <td>14423865.0</td>\n",
       "      <td>DESCHOMP</td>\n",
       "      <td>HAROLD</td>\n",
       "      <td>NaN</td>\n",
       "      <td>NaN</td>\n",
       "      <td>6/13/1973</td>\n",
       "      <td>MALE</td>\n",
       "      <td>822-36-9891</td>\n",
       "      <td>1172 E 73RD ST</td>\n",
       "      <td>PVT</td>\n",
       "      <td>11224</td>\n",
       "      <td>NaN</td>\n",
       "      <td>NaN</td>\n",
       "      <td>BROOKLYN</td>\n",
       "      <td>NY</td>\n",
       "      <td>929-275-3170</td>\n",
       "      <td>NaN</td>\n",
       "      <td>NaN</td>\n",
       "      <td>NaN</td>\n",
       "    </tr>\n",
       "    <tr>\n",
       "      <th>2</th>\n",
       "      <td>15058700.0</td>\n",
       "      <td>THOMAS</td>\n",
       "      <td>JO</td>\n",
       "      <td>JOSEFINA</td>\n",
       "      <td>NaN</td>\n",
       "      <td>5/26/1990</td>\n",
       "      <td>FEMALE</td>\n",
       "      <td>882-90-8105</td>\n",
       "      <td>1780 LAFAYETTE AVE</td>\n",
       "      <td>1B</td>\n",
       "      <td>10473</td>\n",
       "      <td>NaN</td>\n",
       "      <td>NaN</td>\n",
       "      <td>BRONX</td>\n",
       "      <td>NY</td>\n",
       "      <td>934-716-4031</td>\n",
       "      <td>934-716-4031</td>\n",
       "      <td>NaN</td>\n",
       "      <td>NaN</td>\n",
       "    </tr>\n",
       "    <tr>\n",
       "      <th>3</th>\n",
       "      <td>14377701.0</td>\n",
       "      <td>CHEVALIER</td>\n",
       "      <td>AULIO</td>\n",
       "      <td>NaN</td>\n",
       "      <td>NaN</td>\n",
       "      <td>5/14/2014</td>\n",
       "      <td>MALE</td>\n",
       "      <td>877-20-3599</td>\n",
       "      <td>330 FIRST AVE</td>\n",
       "      <td>NaN</td>\n",
       "      <td>10029</td>\n",
       "      <td>NaN</td>\n",
       "      <td>NaN</td>\n",
       "      <td>NEW YORK</td>\n",
       "      <td>NY</td>\n",
       "      <td>631-718-3288</td>\n",
       "      <td>NaN</td>\n",
       "      <td>NaN</td>\n",
       "      <td>NaN</td>\n",
       "    </tr>\n",
       "    <tr>\n",
       "      <th>4</th>\n",
       "      <td>14946687.0</td>\n",
       "      <td>CERVANTES</td>\n",
       "      <td>LEAH</td>\n",
       "      <td>NaN</td>\n",
       "      <td>NaN</td>\n",
       "      <td>1/26/1990</td>\n",
       "      <td>FEMALE</td>\n",
       "      <td>NaN</td>\n",
       "      <td>755 WHITE PLS RD</td>\n",
       "      <td>24K</td>\n",
       "      <td>10473</td>\n",
       "      <td>NaN</td>\n",
       "      <td>NaN</td>\n",
       "      <td>BRONX</td>\n",
       "      <td>NY</td>\n",
       "      <td>631-733-8223</td>\n",
       "      <td>NaN</td>\n",
       "      <td>NaN</td>\n",
       "      <td>NaN</td>\n",
       "    </tr>\n",
       "  </tbody>\n",
       "</table>\n",
       "</div>"
      ],
      "text/plain": [
       "   EnterpriseID       LAST   FIRST    MIDDLE SUFFIX        DOB  GENDER  \\\n",
       "0    13125316.0   BERRYMAN  MARTHA       NaN    NaN   8/6/1993  FEMALE   \n",
       "1    14423865.0   DESCHOMP  HAROLD       NaN    NaN  6/13/1973    MALE   \n",
       "2    15058700.0     THOMAS      JO  JOSEFINA    NaN  5/26/1990  FEMALE   \n",
       "3    14377701.0  CHEVALIER   AULIO       NaN    NaN  5/14/2014    MALE   \n",
       "4    14946687.0  CERVANTES    LEAH       NaN    NaN  1/26/1990  FEMALE   \n",
       "\n",
       "           SSN            ADDRESS1 ADDRESS2    ZIP MOTHERS_MAIDEN_NAME  MRN  \\\n",
       "0  857-46-5079       1120 CLAY AVE       4G  10456                 NaN  NaN   \n",
       "1  822-36-9891      1172 E 73RD ST      PVT  11224                 NaN  NaN   \n",
       "2  882-90-8105  1780 LAFAYETTE AVE       1B  10473                 NaN  NaN   \n",
       "3  877-20-3599       330 FIRST AVE      NaN  10029                 NaN  NaN   \n",
       "4          NaN    755 WHITE PLS RD      24K  10473                 NaN  NaN   \n",
       "\n",
       "       CITY STATE         PHONE        PHONE2 EMAIL ALIAS  \n",
       "0     BRONX    NY  732-461-9820           NaN   NaN   NaN  \n",
       "1  BROOKLYN    NY  929-275-3170           NaN   NaN   NaN  \n",
       "2     BRONX    NY  934-716-4031  934-716-4031   NaN   NaN  \n",
       "3  NEW YORK    NY  631-718-3288           NaN   NaN   NaN  \n",
       "4     BRONX    NY  631-733-8223           NaN   NaN   NaN  "
      ]
     },
     "execution_count": 5,
     "metadata": {},
     "output_type": "execute_result"
    }
   ],
   "source": [
    "df.head()"
   ]
  },
  {
   "cell_type": "code",
   "execution_count": 6,
   "metadata": {
    "collapsed": true
   },
   "outputs": [],
   "source": [
    "# block_class = recordlinkage.BlockIndex('LAST')\n",
    "# candidate_links = block_class.index(df, df)"
   ]
  },
  {
   "cell_type": "code",
   "execution_count": null,
   "metadata": {
    "collapsed": true
   },
   "outputs": [],
   "source": []
  }
 ],
 "metadata": {
  "kernelspec": {
   "display_name": "Python 3",
   "language": "python",
   "name": "python3"
  },
  "language_info": {
   "codemirror_mode": {
    "name": "ipython",
    "version": 3
   },
   "file_extension": ".py",
   "mimetype": "text/x-python",
   "name": "python",
   "nbconvert_exporter": "python",
   "pygments_lexer": "ipython3",
   "version": "3.5.3"
  }
 },
 "nbformat": 4,
 "nbformat_minor": 2
}
